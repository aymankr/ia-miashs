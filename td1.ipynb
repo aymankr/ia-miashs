{
 "cells": [
  {
   "cell_type": "code",
   "execution_count": 45,
   "metadata": {},
   "outputs": [
    {
     "data": {
      "text/plain": [
       "A   -1.0\n",
       "B    2.5\n",
       "C    5.0\n",
       "dtype: float64"
      ]
     },
     "execution_count": 45,
     "metadata": {},
     "output_type": "execute_result"
    }
   ],
   "source": [
    "import pandas as pd\n",
    "a = [-1, 2.5, -3, 5, -2, 8, 17]\n",
    "s1 = pd.Series(a) # transformation en une série\n",
    "s1\n",
    "s1.values # valeurs de s1\n",
    "s1.index\n",
    "s1.index.values # valeurs des index\n",
    "s1[1]\n",
    "s1[1:4] # valeurs de l'indice 1 à 3\n",
    "s1[[1,3,5]]\n",
    "s1[s1 < 0] # val inf à 0\n",
    "tags = list(\"ABECIDF\")\n",
    "tags\n",
    "s2 = pd.Series(a, index=tags) # personnaliser index\n",
    "s2\n",
    "s2.values\n",
    "s2.index\n",
    "s2.index.values\n",
    "s2[1]\n",
    "s2[1:4]\n",
    "s2[[1,3,5]]\n",
    "s2[s2 < 0]\n",
    "s2['A':'D']\n",
    "s2[['A', 'B', 'C']]"
   ]
  },
  {
   "attachments": {},
   "cell_type": "markdown",
   "metadata": {},
   "source": [
    "Modification des données"
   ]
  },
  {
   "cell_type": "code",
   "execution_count": 46,
   "metadata": {},
   "outputs": [],
   "source": [
    "s1[1] = 42\n",
    "s1[2:] = 13\n",
    "s1[13] = -24\n",
    "s1.index\n",
    "s1.index.values\n",
    "s2['A'] = 13\n",
    "s2[2] = 37\n",
    "s2.F = -53\n",
    "s2['G'] = 1.25\n",
    "#s2[14] = 5 ne marche pas car on peut pas modifier de valeur à un index qui n'existe pas\n",
    "s2.index.values\n",
    "s2[s2%2==1] = 0\n",
    "#s2"
   ]
  },
  {
   "attachments": {},
   "cell_type": "markdown",
   "metadata": {},
   "source": [
    "Autres bibliothèques"
   ]
  },
  {
   "cell_type": "code",
   "execution_count": 47,
   "metadata": {},
   "outputs": [
    {
     "data": {
      "text/plain": [
       "2021-01-03    1\n",
       "2021-01-10    0\n",
       "2021-01-17    0\n",
       "2021-01-24    0\n",
       "2021-01-31    1\n",
       "2021-02-07    1\n",
       "2021-02-14    1\n",
       "2021-02-21    0\n",
       "2021-02-28    1\n",
       "Freq: W-SUN, dtype: int64"
      ]
     },
     "execution_count": 47,
     "metadata": {},
     "output_type": "execute_result"
    }
   ],
   "source": [
    "import numpy as np\n",
    "import random\n",
    "tmps = pd.date_range(\"2020-06-07\", periods=13, freq='Q')\n",
    "tmps\n",
    "valeurs = np.random.rand(tmps.size)\n",
    "valeurs\n",
    "s3 = pd.Series(valeurs, index=tmps)\n",
    "s3\n",
    "s3.index\n",
    "s3.index.values\n",
    "tmps = pd.timedelta_range(\"15H\", periods=7, freq=\"1H15T\") #  à partir de 15h ajouter 1h15min\n",
    "tmps\n",
    "valeurs = np.random.rand(tmps.size)\n",
    "s4 = pd.Series(valeurs, index=tmps)\n",
    "s4\n",
    "tmps = pd.date_range(\"2021\", end='2021-03', freq='W') # ajouter en semaines\n",
    "tmps\n",
    "s5 = pd.Series(random.choices([0,1], k=tmps.size), index=tmps)\n",
    "s5"
   ]
  },
  {
   "attachments": {},
   "cell_type": "markdown",
   "metadata": {},
   "source": [
    "Créez une série indexée sur les journées de janvier et février 2020 et dont les valeurs\n",
    "sont positives pour la première quinzaine du mois, négatives pour la seconde\n",
    "quinzaine du mois\n",
    "créez une seconde série avec les mêmes index, mais les valeurs seront aléatoirement\n",
    "prises dans 1,2,3\n",
    "affichez la première série si la valeur dans la seconde série est impaire"
   ]
  },
  {
   "cell_type": "code",
   "execution_count": 48,
   "metadata": {},
   "outputs": [
    {
     "name": "stdout",
     "output_type": "stream",
     "text": [
      "1\n",
      "1\n",
      "1\n",
      "1\n",
      "1\n",
      "1\n",
      "1\n",
      "1\n",
      "-1\n",
      "-1\n",
      "-1\n",
      "-1\n",
      "-1\n",
      "-1\n",
      "-1\n",
      "-1\n",
      "-1\n",
      "-1\n",
      "-1\n",
      "1\n",
      "1\n",
      "1\n",
      "1\n",
      "1\n",
      "-1\n",
      "-1\n",
      "-1\n",
      "-1\n",
      "-1\n",
      "-1\n",
      "-1\n",
      "-1\n",
      "-1\n",
      "-1\n",
      "-1\n"
     ]
    }
   ],
   "source": [
    "# Janvier et février\n",
    "tmps = pd.date_range(start='2020-01-01', end='2020-02-29')\n",
    "tmps\n",
    "values = [1 if v.day <= 15 else -1 for v in tmps]\n",
    "s4 = pd.Series(values, index=tmps)\n",
    "s4\n",
    "\n",
    "# Valeurs aléatoires 1,2,3\n",
    "values = [np.random.randint(1, 4) if v.day <= 15 else -np.random.randint(1, 4) for v in tmps]\n",
    "s5 = pd.Series(values, index=tmps)\n",
    "s5\n",
    "\n",
    "# affichage selon la parité\n",
    "for i in range(len(s5)):\n",
    "    if s5[i] % 2 != 0:\n",
    "        print(s4[i])\n"
   ]
  },
  {
   "cell_type": "code",
   "execution_count": 49,
   "metadata": {},
   "outputs": [
    {
     "data": {
      "text/html": [
       "<div>\n",
       "<style scoped>\n",
       "    .dataframe tbody tr th:only-of-type {\n",
       "        vertical-align: middle;\n",
       "    }\n",
       "\n",
       "    .dataframe tbody tr th {\n",
       "        vertical-align: top;\n",
       "    }\n",
       "\n",
       "    .dataframe thead th {\n",
       "        text-align: right;\n",
       "    }\n",
       "</style>\n",
       "<table border=\"1\" class=\"dataframe\">\n",
       "  <thead>\n",
       "    <tr style=\"text-align: right;\">\n",
       "      <th></th>\n",
       "      <th>A</th>\n",
       "      <th>B</th>\n",
       "      <th>C</th>\n",
       "    </tr>\n",
       "  </thead>\n",
       "  <tbody>\n",
       "    <tr>\n",
       "      <th>e</th>\n",
       "      <td>4</td>\n",
       "      <td>5</td>\n",
       "      <td>6</td>\n",
       "    </tr>\n",
       "    <tr>\n",
       "      <th>i</th>\n",
       "      <td>2</td>\n",
       "      <td>-2</td>\n",
       "      <td>2</td>\n",
       "    </tr>\n",
       "  </tbody>\n",
       "</table>\n",
       "</div>"
      ],
      "text/plain": [
       "   A  B  C\n",
       "e  4  5  6\n",
       "i  2 -2  2"
      ]
     },
     "execution_count": 49,
     "metadata": {},
     "output_type": "execute_result"
    }
   ],
   "source": [
    "m = [ [1,2,3], [4,5,6], [2,-2,2], [0,0,1]]\n",
    "df = pd.DataFrame(m)\n",
    "df\n",
    "df.index\n",
    "df.index.values\n",
    "df.columns\n",
    "df.columns.values\n",
    "df.values\n",
    "df.ndim # tableau 2D\n",
    "df.size\n",
    "df.shape # taille\n",
    "df[1] # toutes les valeurs de la colonne 1\n",
    "df[1:] # affichage des valeurs aux index 1,2,3\n",
    "\n",
    "df.T # ss forme matricielle\n",
    "df.T[2] # indice aux lignes\n",
    "df.T[1:]\n",
    "df.T[1:].T\n",
    "df.loc[2]\n",
    "df.loc[:,1:]\n",
    "\n",
    "df[[2,0]] # afficher valeurs à l'indice 2, et ceux à l'indice 0 par colonne\n",
    "df[df%3==1] # afficher que les valeurs dont le modulo 3 renvoie 1\n",
    "df.columns=list(\"ABC\")\n",
    "df.index=list(\"aeio\")\n",
    "df\n",
    "df.A\n",
    "df['A']\n",
    "df.loc['e':] # afficher les valeurs à partir de l'indice 'e'\n",
    "df.iloc[1:3] # afficher les valeurs de l'indice 1 à 3 correspondant aux indices d'étiquette\n"
   ]
  },
  {
   "attachments": {},
   "cell_type": "markdown",
   "metadata": {},
   "source": [
    "- Utilisation de dictionnaires regroupant plusieurs séries\n",
    "- La lecture de fichier"
   ]
  },
  {
   "cell_type": "code",
   "execution_count": 50,
   "metadata": {},
   "outputs": [],
   "source": [
    "dates = pd.date_range(\"2020-01\", end=\"2022-06\", freq=\"W-MON\")\n",
    "categories = \"trottinette vélo voiture marche tram bus train\".split()\n",
    "true_false = (dates.month > 3) * (dates.month < 7) # récolter deux tableaux et multiplier les booléens entre eux \n",
    "delay = (pd.Timestamp('now') - dates).round('D')\n",
    "big_df = pd.DataFrame({'mobility':\n",
    "     pd.Categorical(random.choices(categories, k=dates.size)), 'start': 0,\n",
    "     'stop': 0.1 * np.array(random.choices(list(range(100)), k=dates.size)),\n",
    "     'delay':delay, 'date':dates, 'target':true_false})\n"
   ]
  },
  {
   "attachments": {},
   "cell_type": "markdown",
   "metadata": {},
   "source": [
    "Lecture CSV, commandes"
   ]
  },
  {
   "cell_type": "code",
   "execution_count": 51,
   "metadata": {},
   "outputs": [
    {
     "name": "stdout",
     "output_type": "stream",
     "text": [
      "<class 'pandas.core.frame.DataFrame'>\n",
      "RangeIndex: 126 entries, 0 to 125\n",
      "Data columns (total 6 columns):\n",
      " #   Column    Non-Null Count  Dtype          \n",
      "---  ------    --------------  -----          \n",
      " 0   mobility  126 non-null    category       \n",
      " 1   start     126 non-null    int64          \n",
      " 2   stop      126 non-null    float64        \n",
      " 3   delay     126 non-null    timedelta64[ns]\n",
      " 4   date      126 non-null    datetime64[ns] \n",
      " 5   target    126 non-null    bool           \n",
      "dtypes: bool(1), category(1), datetime64[ns](1), float64(1), int64(1), timedelta64[ns](1)\n",
      "memory usage: 4.7 KB\n"
     ]
    },
    {
     "name": "stderr",
     "output_type": "stream",
     "text": [
      "C:\\Users\\a\\AppData\\Local\\Temp\\ipykernel_3180\\3528680152.py:9: FutureWarning: Treating datetime data as categorical rather than numeric in `.describe` is deprecated and will be removed in a future version of pandas. Specify `datetime_is_numeric=True` to silence this warning and adopt the future behavior now.\n",
      "  big_df.describe(include='all')\n"
     ]
    },
    {
     "data": {
      "text/plain": [
       "['train', 'bus', 'voiture', 'tram', 'trottinette', 'vélo', 'marche']\n",
       "Categories (7, object): ['bus', 'marche', 'train', 'tram', 'trottinette', 'voiture', 'vélo']"
      ]
     },
     "execution_count": 51,
     "metadata": {},
     "output_type": "execute_result"
    }
   ],
   "source": [
    "ventes = pd.read_csv(\"sales.csv\") # help(pd.read_csv) pour les options\n",
    "\n",
    "big_df.head()\n",
    "big_df.head(2)\n",
    "big_df.tail()\n",
    "big_df.tail(2)\n",
    "big_df.info()\n",
    "big_df.describe() # afficher stats\n",
    "big_df.describe(include='all')\n",
    "big_df.mobility.unique() # valeurs uniques possibles"
   ]
  },
  {
   "attachments": {},
   "cell_type": "markdown",
   "metadata": {},
   "source": [
    "Dans big_df combien y-at-il de données telles que 'mobility' soit trottinette. Quelle\n",
    "est la valeur moyenne de 'delay' pour ces valeurs ? Quelle est la valeur du premier\n",
    "quartile de 'delay' ? Quel est le maximum de la variable 'stop' ?"
   ]
  },
  {
   "cell_type": "code",
   "execution_count": 52,
   "metadata": {},
   "outputs": [
    {
     "data": {
      "text/plain": [
       "9.9"
      ]
     },
     "execution_count": 52,
     "metadata": {},
     "output_type": "execute_result"
    }
   ],
   "source": [
    "len(big_df[big_df['mobility'] == 'trotinette'])\n",
    "big_df['delay'].mean()\n",
    "big_df['delay'].quantile(q=0.25)\n",
    "big_df['stop'].max()"
   ]
  },
  {
   "attachments": {},
   "cell_type": "markdown",
   "metadata": {},
   "source": [
    "Ajout, suppression"
   ]
  },
  {
   "cell_type": "code",
   "execution_count": 80,
   "metadata": {},
   "outputs": [
    {
     "data": {
      "text/plain": [
       "0       4.9\n",
       "1       1.1\n",
       "3      42.0\n",
       "4       3.7\n",
       "5       4.8\n",
       "       ... \n",
       "121     8.8\n",
       "122     5.7\n",
       "123     2.1\n",
       "124     1.6\n",
       "125     9.5\n",
       "Name: stop, Length: 125, dtype: float64"
      ]
     },
     "execution_count": 80,
     "metadata": {},
     "output_type": "execute_result"
    }
   ],
   "source": [
    "big_df.shape\n",
    "#big_df['OH'] = range(big_df.shape[0], -1, -1)\n",
    "big_df['carre'] = big_df.stop**2\n",
    "big_df['couleur'] = pd.Series({0:'green', 25:'yellow', 100:'red'})\n",
    "big_df.drop('carre', axis=1)\n",
    "big_df.columns\n",
    "#big_df.drop(2)\n",
    "big_df.head()\n",
    "#big_df.drop('carre', inplace=True)\n",
    "big_df.columns\n",
    "#big_df.drop(2, inplace=True)\n",
    "big_df.head()\n",
    "big_df.iloc[2] = {'mobility': 'vélo', 'stop':42}\n",
    "big_df.head()\n",
    "big_df.iloc[2,3]\n",
    "big_df.iloc[2,3] = pd.Timedelta('200 days 01:01:01')\n",
    "big_df.head()\n",
    "ventes['cout'] = ventes['TV']+ventes['Radio']+ventes.Newspaper\n",
    "\n",
    "big_df['couleur'].fillna('black')\n",
    "big_df['couleur'].fillna(method='ffill')\n",
    "big_df['couleur'].fillna(method='bfill')\n",
    "big_df['stop'].fillna(big_df.stop.mean())"
   ]
  },
  {
   "attachments": {},
   "cell_type": "markdown",
   "metadata": {},
   "source": [
    "Pour la série 'couleur' de big_df donnez les valeurs obtenues par les méthodes\n",
    ".count et .value_counts ; puis appliquez les 3 manières de remplacement et\n",
    "donnez les scores que vous obtenez\n",
    "Dans la table ventes ajouter une colonne \"facteur\" qui soit le ratio entre \"Sales\" et\"TV\". Quelles sont les statistiques pour la série \"facteur\" ? Combien y-a-t-il de valeurs\n",
    "dans le dernier quartile ?\n",
    "Quelle est la commande pour supprimer définitivement la colonne \"facteur\" ?\n",
    "Comment supprimer les données de la table ventes qui ont une valeur \"TV\" ?\n",
    "On souhaite rajouter une colonne 'budget_pub' dans la table ventes qui contiennent\n",
    "'gros' si la valeur \"TV\" est , 'moyen' si la valeur est , 'bas' sinon."
   ]
  },
  {
   "cell_type": "code",
   "execution_count": 87,
   "metadata": {},
   "outputs": [
    {
     "data": {
      "text/html": [
       "<div>\n",
       "<style scoped>\n",
       "    .dataframe tbody tr th:only-of-type {\n",
       "        vertical-align: middle;\n",
       "    }\n",
       "\n",
       "    .dataframe tbody tr th {\n",
       "        vertical-align: top;\n",
       "    }\n",
       "\n",
       "    .dataframe thead th {\n",
       "        text-align: right;\n",
       "    }\n",
       "</style>\n",
       "<table border=\"1\" class=\"dataframe\">\n",
       "  <thead>\n",
       "    <tr style=\"text-align: right;\">\n",
       "      <th></th>\n",
       "      <th>mobility</th>\n",
       "      <th>start</th>\n",
       "      <th>stop</th>\n",
       "      <th>delay</th>\n",
       "      <th>date</th>\n",
       "      <th>target</th>\n",
       "      <th>OH</th>\n",
       "      <th>carre</th>\n",
       "      <th>couleur</th>\n",
       "    </tr>\n",
       "  </thead>\n",
       "  <tbody>\n",
       "    <tr>\n",
       "      <th>0</th>\n",
       "      <td>train</td>\n",
       "      <td>0.0</td>\n",
       "      <td>4.9</td>\n",
       "      <td>1116 days 00:00:00</td>\n",
       "      <td>2020-01-06</td>\n",
       "      <td>False</td>\n",
       "      <td>124.0</td>\n",
       "      <td>24.01</td>\n",
       "      <td>green</td>\n",
       "    </tr>\n",
       "    <tr>\n",
       "      <th>1</th>\n",
       "      <td>bus</td>\n",
       "      <td>0.0</td>\n",
       "      <td>1.1</td>\n",
       "      <td>1109 days 00:00:00</td>\n",
       "      <td>2020-01-13</td>\n",
       "      <td>False</td>\n",
       "      <td>123.0</td>\n",
       "      <td>1.21</td>\n",
       "      <td>NaN</td>\n",
       "    </tr>\n",
       "    <tr>\n",
       "      <th>3</th>\n",
       "      <td>vélo</td>\n",
       "      <td>NaN</td>\n",
       "      <td>42.0</td>\n",
       "      <td>200 days 01:01:01</td>\n",
       "      <td>NaT</td>\n",
       "      <td>NaN</td>\n",
       "      <td>NaN</td>\n",
       "      <td>NaN</td>\n",
       "      <td>NaN</td>\n",
       "    </tr>\n",
       "    <tr>\n",
       "      <th>4</th>\n",
       "      <td>trottinette</td>\n",
       "      <td>0.0</td>\n",
       "      <td>3.7</td>\n",
       "      <td>1088 days 00:00:00</td>\n",
       "      <td>2020-02-03</td>\n",
       "      <td>False</td>\n",
       "      <td>121.0</td>\n",
       "      <td>13.69</td>\n",
       "      <td>NaN</td>\n",
       "    </tr>\n",
       "    <tr>\n",
       "      <th>5</th>\n",
       "      <td>vélo</td>\n",
       "      <td>0.0</td>\n",
       "      <td>4.8</td>\n",
       "      <td>1081 days 00:00:00</td>\n",
       "      <td>2020-02-10</td>\n",
       "      <td>False</td>\n",
       "      <td>120.0</td>\n",
       "      <td>23.04</td>\n",
       "      <td>NaN</td>\n",
       "    </tr>\n",
       "    <tr>\n",
       "      <th>...</th>\n",
       "      <td>...</td>\n",
       "      <td>...</td>\n",
       "      <td>...</td>\n",
       "      <td>...</td>\n",
       "      <td>...</td>\n",
       "      <td>...</td>\n",
       "      <td>...</td>\n",
       "      <td>...</td>\n",
       "      <td>...</td>\n",
       "    </tr>\n",
       "    <tr>\n",
       "      <th>121</th>\n",
       "      <td>trottinette</td>\n",
       "      <td>0.0</td>\n",
       "      <td>8.8</td>\n",
       "      <td>269 days 00:00:00</td>\n",
       "      <td>2022-05-02</td>\n",
       "      <td>True</td>\n",
       "      <td>4.0</td>\n",
       "      <td>77.44</td>\n",
       "      <td>NaN</td>\n",
       "    </tr>\n",
       "    <tr>\n",
       "      <th>122</th>\n",
       "      <td>tram</td>\n",
       "      <td>0.0</td>\n",
       "      <td>5.7</td>\n",
       "      <td>262 days 00:00:00</td>\n",
       "      <td>2022-05-09</td>\n",
       "      <td>True</td>\n",
       "      <td>3.0</td>\n",
       "      <td>32.49</td>\n",
       "      <td>NaN</td>\n",
       "    </tr>\n",
       "    <tr>\n",
       "      <th>123</th>\n",
       "      <td>tram</td>\n",
       "      <td>0.0</td>\n",
       "      <td>2.1</td>\n",
       "      <td>255 days 00:00:00</td>\n",
       "      <td>2022-05-16</td>\n",
       "      <td>True</td>\n",
       "      <td>2.0</td>\n",
       "      <td>4.41</td>\n",
       "      <td>NaN</td>\n",
       "    </tr>\n",
       "    <tr>\n",
       "      <th>124</th>\n",
       "      <td>vélo</td>\n",
       "      <td>0.0</td>\n",
       "      <td>1.6</td>\n",
       "      <td>248 days 00:00:00</td>\n",
       "      <td>2022-05-23</td>\n",
       "      <td>True</td>\n",
       "      <td>1.0</td>\n",
       "      <td>2.56</td>\n",
       "      <td>NaN</td>\n",
       "    </tr>\n",
       "    <tr>\n",
       "      <th>125</th>\n",
       "      <td>vélo</td>\n",
       "      <td>0.0</td>\n",
       "      <td>9.5</td>\n",
       "      <td>241 days 00:00:00</td>\n",
       "      <td>2022-05-30</td>\n",
       "      <td>True</td>\n",
       "      <td>0.0</td>\n",
       "      <td>90.25</td>\n",
       "      <td>NaN</td>\n",
       "    </tr>\n",
       "  </tbody>\n",
       "</table>\n",
       "<p>125 rows × 9 columns</p>\n",
       "</div>"
      ],
      "text/plain": [
       "        mobility  start  stop              delay       date target     OH  \\\n",
       "0          train    0.0   4.9 1116 days 00:00:00 2020-01-06  False  124.0   \n",
       "1            bus    0.0   1.1 1109 days 00:00:00 2020-01-13  False  123.0   \n",
       "3           vélo    NaN  42.0  200 days 01:01:01        NaT    NaN    NaN   \n",
       "4    trottinette    0.0   3.7 1088 days 00:00:00 2020-02-03  False  121.0   \n",
       "5           vélo    0.0   4.8 1081 days 00:00:00 2020-02-10  False  120.0   \n",
       "..           ...    ...   ...                ...        ...    ...    ...   \n",
       "121  trottinette    0.0   8.8  269 days 00:00:00 2022-05-02   True    4.0   \n",
       "122         tram    0.0   5.7  262 days 00:00:00 2022-05-09   True    3.0   \n",
       "123         tram    0.0   2.1  255 days 00:00:00 2022-05-16   True    2.0   \n",
       "124         vélo    0.0   1.6  248 days 00:00:00 2022-05-23   True    1.0   \n",
       "125         vélo    0.0   9.5  241 days 00:00:00 2022-05-30   True    0.0   \n",
       "\n",
       "     carre couleur  \n",
       "0    24.01   green  \n",
       "1     1.21     NaN  \n",
       "3      NaN     NaN  \n",
       "4    13.69     NaN  \n",
       "5    23.04     NaN  \n",
       "..     ...     ...  \n",
       "121  77.44     NaN  \n",
       "122  32.49     NaN  \n",
       "123   4.41     NaN  \n",
       "124   2.56     NaN  \n",
       "125  90.25     NaN  \n",
       "\n",
       "[125 rows x 9 columns]"
      ]
     },
     "execution_count": 87,
     "metadata": {},
     "output_type": "execute_result"
    }
   ],
   "source": [
    "big_df.couleur.count\n",
    "big_df.couleur.value_counts\n",
    "#big_df\n",
    "big_df['couleur'].fillna('black')\n",
    "big_df['couleur'].fillna(method='ffill')\n",
    "big_df['couleur'].fillna(method='bfill')\n",
    "big_df\n"
   ]
  }
 ],
 "metadata": {
  "kernelspec": {
   "display_name": "Python 3",
   "language": "python",
   "name": "python3"
  },
  "language_info": {
   "codemirror_mode": {
    "name": "ipython",
    "version": 3
   },
   "file_extension": ".py",
   "mimetype": "text/x-python",
   "name": "python",
   "nbconvert_exporter": "python",
   "pygments_lexer": "ipython3",
   "version": "3.10.9"
  },
  "orig_nbformat": 4,
  "vscode": {
   "interpreter": {
    "hash": "4616066d6de94223d6dfbea6dbfec1a81056d26ff9efd96f39680a77ec970445"
   }
  }
 },
 "nbformat": 4,
 "nbformat_minor": 2
}

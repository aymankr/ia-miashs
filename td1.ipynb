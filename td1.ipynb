{
 "cells": [
  {
   "cell_type": "code",
   "execution_count": 3,
   "metadata": {},
   "outputs": [
    {
     "data": {
      "text/plain": [
       "A   -1.0\n",
       "B    2.5\n",
       "C    5.0\n",
       "dtype: float64"
      ]
     },
     "execution_count": 3,
     "metadata": {},
     "output_type": "execute_result"
    }
   ],
   "source": [
    "import pandas as pd\n",
    "a = [-1, 2.5, -3, 5, -2, 8, 17]\n",
    "s1 = pd.Series(a) # transformation en une série\n",
    "s1\n",
    "s1.values # valeurs de s1\n",
    "s1.index\n",
    "s1.index.values # valeurs des index\n",
    "s1[1]\n",
    "s1[1:4] # valeurs de l'indice 1 à 3\n",
    "s1[[1,3,5]]\n",
    "s1[s1 < 0] # val inf à 0\n",
    "tags = list(\"ABECIDF\")\n",
    "tags\n",
    "s2 = pd.Series(a, index=tags) # personnaliser index\n",
    "s2\n",
    "s2.values\n",
    "s2.index\n",
    "s2.index.values\n",
    "s2[1]\n",
    "s2[1:4]\n",
    "s2[[1,3,5]]\n",
    "s2[s2 < 0]\n",
    "s2['A':'D']\n",
    "s2[['A', 'B', 'C']]"
   ]
  },
  {
   "attachments": {},
   "cell_type": "markdown",
   "metadata": {},
   "source": [
    "Modification des données"
   ]
  },
  {
   "cell_type": "code",
   "execution_count": 4,
   "metadata": {},
   "outputs": [],
   "source": [
    "s1[1] = 42\n",
    "s1[2:] = 13\n",
    "s1[13] = -24\n",
    "s1.index\n",
    "s1.index.values\n",
    "s2['A'] = 13\n",
    "s2[2] = 37\n",
    "s2.F = -53\n",
    "s2['G'] = 1.25\n",
    "#s2[14] = 5 ne marche pas car on peut pas modifier de valeur à un index qui n'existe pas\n",
    "s2.index.values\n",
    "s2[s2%2==1] = 0\n",
    "#s2"
   ]
  },
  {
   "attachments": {},
   "cell_type": "markdown",
   "metadata": {},
   "source": [
    "Autres bibliothèques"
   ]
  },
  {
   "cell_type": "code",
   "execution_count": 5,
   "metadata": {},
   "outputs": [
    {
     "data": {
      "text/plain": [
       "2021-01-03    0\n",
       "2021-01-10    1\n",
       "2021-01-17    1\n",
       "2021-01-24    1\n",
       "2021-01-31    1\n",
       "2021-02-07    1\n",
       "2021-02-14    1\n",
       "2021-02-21    0\n",
       "2021-02-28    1\n",
       "Freq: W-SUN, dtype: int64"
      ]
     },
     "execution_count": 5,
     "metadata": {},
     "output_type": "execute_result"
    }
   ],
   "source": [
    "import numpy as np\n",
    "import random\n",
    "tmps = pd.date_range(\"2020-06-07\", periods=13, freq='Q')\n",
    "tmps\n",
    "valeurs = np.random.rand(tmps.size)\n",
    "valeurs\n",
    "s3 = pd.Series(valeurs, index=tmps)\n",
    "s3\n",
    "s3.index\n",
    "s3.index.values\n",
    "tmps = pd.timedelta_range(\"15H\", periods=7, freq=\"1H15T\") #  à partir de 15h ajouter 1h15min\n",
    "tmps\n",
    "valeurs = np.random.rand(tmps.size)\n",
    "s4 = pd.Series(valeurs, index=tmps)\n",
    "s4\n",
    "tmps = pd.date_range(\"2021\", end='2021-03', freq='W') # ajouter en semaines\n",
    "tmps\n",
    "s5 = pd.Series(random.choices([0,1], k=tmps.size), index=tmps)\n",
    "s5"
   ]
  },
  {
   "attachments": {},
   "cell_type": "markdown",
   "metadata": {},
   "source": [
    "Créez une série indexée sur les journées de janvier et février 2020 et dont les valeurs\n",
    "sont positives pour la première quinzaine du mois, négatives pour la seconde\n",
    "quinzaine du mois\n",
    "créez une seconde série avec les mêmes index, mais les valeurs seront aléatoirement\n",
    "prises dans 1,2,3\n",
    "affichez la première série si la valeur dans la seconde série est impaire"
   ]
  },
  {
   "cell_type": "code",
   "execution_count": 6,
   "metadata": {},
   "outputs": [
    {
     "name": "stdout",
     "output_type": "stream",
     "text": [
      "1\n",
      "1\n",
      "1\n",
      "1\n",
      "1\n",
      "1\n",
      "1\n",
      "1\n",
      "-1\n",
      "-1\n",
      "-1\n",
      "-1\n",
      "-1\n",
      "-1\n",
      "-1\n",
      "-1\n",
      "-1\n",
      "-1\n",
      "-1\n",
      "1\n",
      "1\n",
      "1\n",
      "1\n",
      "1\n",
      "1\n",
      "1\n",
      "1\n",
      "1\n",
      "1\n",
      "-1\n",
      "-1\n",
      "-1\n",
      "-1\n",
      "-1\n",
      "-1\n",
      "-1\n",
      "-1\n"
     ]
    }
   ],
   "source": [
    "# Janvier et février\n",
    "tmps = pd.date_range(start='2020-01-01', end='2020-02-29')\n",
    "tmps\n",
    "values = [1 if v.day <= 15 else -1 for v in tmps]\n",
    "s4 = pd.Series(values, index=tmps)\n",
    "s4\n",
    "\n",
    "# Valeurs aléatoires 1,2,3\n",
    "values = [np.random.randint(1, 4) if v.day <= 15 else -np.random.randint(1, 4) for v in tmps]\n",
    "s5 = pd.Series(values, index=tmps)\n",
    "s5\n",
    "\n",
    "# affichage selon la parité\n",
    "for i in range(len(s5)):\n",
    "    if s5[i] % 2 != 0:\n",
    "        print(s4[i])\n"
   ]
  },
  {
   "cell_type": "code",
   "execution_count": 7,
   "metadata": {},
   "outputs": [
    {
     "data": {
      "text/html": [
       "<div>\n",
       "<style scoped>\n",
       "    .dataframe tbody tr th:only-of-type {\n",
       "        vertical-align: middle;\n",
       "    }\n",
       "\n",
       "    .dataframe tbody tr th {\n",
       "        vertical-align: top;\n",
       "    }\n",
       "\n",
       "    .dataframe thead th {\n",
       "        text-align: right;\n",
       "    }\n",
       "</style>\n",
       "<table border=\"1\" class=\"dataframe\">\n",
       "  <thead>\n",
       "    <tr style=\"text-align: right;\">\n",
       "      <th></th>\n",
       "      <th>A</th>\n",
       "      <th>B</th>\n",
       "      <th>C</th>\n",
       "    </tr>\n",
       "  </thead>\n",
       "  <tbody>\n",
       "    <tr>\n",
       "      <th>e</th>\n",
       "      <td>4</td>\n",
       "      <td>5</td>\n",
       "      <td>6</td>\n",
       "    </tr>\n",
       "    <tr>\n",
       "      <th>i</th>\n",
       "      <td>2</td>\n",
       "      <td>-2</td>\n",
       "      <td>2</td>\n",
       "    </tr>\n",
       "  </tbody>\n",
       "</table>\n",
       "</div>"
      ],
      "text/plain": [
       "   A  B  C\n",
       "e  4  5  6\n",
       "i  2 -2  2"
      ]
     },
     "execution_count": 7,
     "metadata": {},
     "output_type": "execute_result"
    }
   ],
   "source": [
    "m = [ [1,2,3], [4,5,6], [2,-2,2], [0,0,1]]\n",
    "df = pd.DataFrame(m)\n",
    "df\n",
    "df.index\n",
    "df.index.values\n",
    "df.columns\n",
    "df.columns.values\n",
    "df.values\n",
    "df.ndim # tableau 2D\n",
    "df.size\n",
    "df.shape # taille\n",
    "df[1] # toutes les valeurs de la colonne 1\n",
    "df[1:] # affichage des valeurs aux index 1,2,3\n",
    "\n",
    "df.T # ss forme matricielle\n",
    "df.T[2] # indice aux lignes\n",
    "df.T[1:]\n",
    "df.T[1:].T\n",
    "df.loc[2]\n",
    "df.loc[:,1:]\n",
    "\n",
    "df[[2,0]] # afficher valeurs à l'indice 2, et ceux à l'indice 0 par colonne\n",
    "df[df%3==1] # afficher que les valeurs dont le modulo 3 renvoie 1\n",
    "df.columns=list(\"ABC\")\n",
    "df.index=list(\"aeio\")\n",
    "df\n",
    "df.A\n",
    "df['A']\n",
    "df.loc['e':] # afficher les valeurs à partir de l'indice 'e'\n",
    "df.iloc[1:3] # afficher les valeurs de l'indice 1 à 3 correspondant aux indices d'étiquette\n"
   ]
  },
  {
   "attachments": {},
   "cell_type": "markdown",
   "metadata": {},
   "source": [
    "- Utilisation de dictionnaires regroupant plusieurs séries\n",
    "- La lecture de fichier"
   ]
  },
  {
   "cell_type": "code",
   "execution_count": 8,
   "metadata": {},
   "outputs": [],
   "source": [
    "dates = pd.date_range(\"2020-01\", end=\"2022-06\", freq=\"W-MON\")\n",
    "categories = \"trottinette vélo voiture marche tram bus train\".split()\n",
    "true_false = (dates.month > 3) * (dates.month < 7) # récolter deux tableaux et multiplier les booléens entre eux \n",
    "delay = (pd.Timestamp('now') - dates).round('D')\n",
    "big_df = pd.DataFrame({'mobility':\n",
    "     pd.Categorical(random.choices(categories, k=dates.size)), 'start': 0,\n",
    "     'stop': 0.1 * np.array(random.choices(list(range(100)), k=dates.size)),\n",
    "     'delay':delay, 'date':dates, 'target':true_false})\n"
   ]
  },
  {
   "attachments": {},
   "cell_type": "markdown",
   "metadata": {},
   "source": [
    "Lecture CSV, commandes"
   ]
  },
  {
   "cell_type": "code",
   "execution_count": 9,
   "metadata": {},
   "outputs": [
    {
     "name": "stdout",
     "output_type": "stream",
     "text": [
      "<class 'pandas.core.frame.DataFrame'>\n",
      "RangeIndex: 126 entries, 0 to 125\n",
      "Data columns (total 6 columns):\n",
      " #   Column    Non-Null Count  Dtype          \n",
      "---  ------    --------------  -----          \n",
      " 0   mobility  126 non-null    category       \n",
      " 1   start     126 non-null    int64          \n",
      " 2   stop      126 non-null    float64        \n",
      " 3   delay     126 non-null    timedelta64[ns]\n",
      " 4   date      126 non-null    datetime64[ns] \n",
      " 5   target    126 non-null    bool           \n",
      "dtypes: bool(1), category(1), datetime64[ns](1), float64(1), int64(1), timedelta64[ns](1)\n",
      "memory usage: 4.7 KB\n"
     ]
    },
    {
     "name": "stderr",
     "output_type": "stream",
     "text": [
      "C:\\Users\\a\\AppData\\Local\\Temp\\ipykernel_8876\\3528680152.py:9: FutureWarning: Treating datetime data as categorical rather than numeric in `.describe` is deprecated and will be removed in a future version of pandas. Specify `datetime_is_numeric=True` to silence this warning and adopt the future behavior now.\n",
      "  big_df.describe(include='all')\n"
     ]
    },
    {
     "data": {
      "text/plain": [
       "['tram', 'voiture', 'marche', 'train', 'bus', 'vélo', 'trottinette']\n",
       "Categories (7, object): ['bus', 'marche', 'train', 'tram', 'trottinette', 'voiture', 'vélo']"
      ]
     },
     "execution_count": 9,
     "metadata": {},
     "output_type": "execute_result"
    }
   ],
   "source": [
    "ventes = pd.read_csv(\"sales.csv\") # help(pd.read_csv) pour les options\n",
    "\n",
    "big_df.head()\n",
    "big_df.head(2)\n",
    "big_df.tail()\n",
    "big_df.tail(2)\n",
    "big_df.info()\n",
    "big_df.describe() # afficher stats\n",
    "big_df.describe(include='all')\n",
    "big_df.mobility.unique() # valeurs uniques possibles"
   ]
  },
  {
   "attachments": {},
   "cell_type": "markdown",
   "metadata": {},
   "source": [
    "Dans big_df combien y-at-il de données telles que 'mobility' soit trottinette. Quelle\n",
    "est la valeur moyenne de 'delay' pour ces valeurs ? Quelle est la valeur du premier\n",
    "quartile de 'delay' ? Quel est le maximum de la variable 'stop' ?"
   ]
  },
  {
   "cell_type": "code",
   "execution_count": 10,
   "metadata": {},
   "outputs": [
    {
     "data": {
      "text/plain": [
       "count    126.000000\n",
       "mean       5.204762\n",
       "std        2.911381\n",
       "min        0.100000\n",
       "25%        3.025000\n",
       "50%        5.050000\n",
       "75%        7.700000\n",
       "max        9.900000\n",
       "Name: stop, dtype: float64"
      ]
     },
     "execution_count": 10,
     "metadata": {},
     "output_type": "execute_result"
    }
   ],
   "source": [
    "big_df[big_df['mobility'] == 'trottinette'].describe()\n",
    "big_df['delay'].describe()\n",
    "big_df['stop'].describe()"
   ]
  },
  {
   "attachments": {},
   "cell_type": "markdown",
   "metadata": {},
   "source": [
    "Ajout, suppression"
   ]
  },
  {
   "cell_type": "code",
   "execution_count": 11,
   "metadata": {},
   "outputs": [
    {
     "data": {
      "text/plain": [
       "0       3.1\n",
       "1       7.1\n",
       "3      42.0\n",
       "4       1.5\n",
       "5       4.7\n",
       "       ... \n",
       "121     4.2\n",
       "122     6.3\n",
       "123     1.5\n",
       "124     8.2\n",
       "125     8.3\n",
       "Name: stop, Length: 125, dtype: float64"
      ]
     },
     "execution_count": 11,
     "metadata": {},
     "output_type": "execute_result"
    }
   ],
   "source": [
    "big_df.shape\n",
    "big_df['OH'] = range(big_df.shape[0], 0, -1)\n",
    "big_df['carre'] = big_df.stop**2\n",
    "big_df['couleur'] = pd.Series({0:'green', 25:'yellow', 100:'red'})\n",
    "big_df.head(10) # equivalent à big_df[:10]\n",
    "big_df.drop('carre', axis=1)\n",
    "big_df.columns\n",
    "big_df.drop(2)\n",
    "big_df.head()\n",
    "big_df.drop('carre', axis=1, inplace=True)\n",
    "big_df.columns\n",
    "big_df.drop(2, inplace=True)\n",
    "big_df.head()\n",
    "big_df.iloc[2] = {'mobility': 'vélo','stop':42} # pd.__version__ > 1\n",
    "big_df.head()\n",
    "big_df.iloc[2,3] # NaT Not a Time\n",
    "big_df.iloc[2,3] = pd.Timedelta('200 days 01:01:01')\n",
    "big_df.iloc[2]\n",
    "ventes['cout'] = ventes['TV']+ventes['Radio']+ventes.Newspaper\n",
    "ventes.head()\n",
    "\n",
    "big_df['couleur'].fillna('black')\n",
    "big_df['couleur'].fillna(method='ffill')\n",
    "big_df['couleur'].fillna(method='bfill')\n",
    "big_df['stop'].fillna(big_df.stop.mean())"
   ]
  },
  {
   "attachments": {},
   "cell_type": "markdown",
   "metadata": {},
   "source": [
    "Pour la série 'couleur' de big_df donnez les valeurs obtenues par les méthodes .count\n",
    "et .value_counts ; puis appliquez les 3 remplacements (par une valeur, en utilisant\n",
    "ffill , en utilisant bfill ) et donnez les scores que vous obtenez\n",
    "Dans la table ventes ajoutez une colonne \"facteur\" qui soit le ratio entre les colonnes\n",
    "\"Sales\" et \"TV\". Quelles sont les statistiques pour la série \"facteur\" ? Quelle est la valeur du\n",
    "dernier quartile ?\n",
    "Quelle est la commande pour supprimer dénitivement la colonne \"facteur\" ?\n",
    "Comment supprimer les données de la table ventes qui ont une valeur \"TV\" , sans\n",
    "impacter la table ventes ?\n",
    "On souhaite rajouter une colonne 'budget_pub' dans la table ventes qui contiennent 'gros'\n",
    "si la valeur \"TV\" est , 'moyen' si la valeur est , 'bas' sinon"
   ]
  },
  {
   "cell_type": "code",
   "execution_count": 15,
   "metadata": {},
   "outputs": [
    {
     "data": {
      "text/html": [
       "<div>\n",
       "<style scoped>\n",
       "    .dataframe tbody tr th:only-of-type {\n",
       "        vertical-align: middle;\n",
       "    }\n",
       "\n",
       "    .dataframe tbody tr th {\n",
       "        vertical-align: top;\n",
       "    }\n",
       "\n",
       "    .dataframe thead th {\n",
       "        text-align: right;\n",
       "    }\n",
       "</style>\n",
       "<table border=\"1\" class=\"dataframe\">\n",
       "  <thead>\n",
       "    <tr style=\"text-align: right;\">\n",
       "      <th></th>\n",
       "      <th>TV</th>\n",
       "      <th>Radio</th>\n",
       "      <th>Newspaper</th>\n",
       "      <th>Sales</th>\n",
       "      <th>cout</th>\n",
       "      <th>budget_pub</th>\n",
       "    </tr>\n",
       "  </thead>\n",
       "  <tbody>\n",
       "    <tr>\n",
       "      <th>0</th>\n",
       "      <td>230.1</td>\n",
       "      <td>37.8</td>\n",
       "      <td>69.2</td>\n",
       "      <td>22.1</td>\n",
       "      <td>337.1</td>\n",
       "      <td>gros</td>\n",
       "    </tr>\n",
       "    <tr>\n",
       "      <th>1</th>\n",
       "      <td>44.5</td>\n",
       "      <td>39.3</td>\n",
       "      <td>45.1</td>\n",
       "      <td>10.4</td>\n",
       "      <td>128.9</td>\n",
       "      <td>bas</td>\n",
       "    </tr>\n",
       "    <tr>\n",
       "      <th>2</th>\n",
       "      <td>17.2</td>\n",
       "      <td>45.9</td>\n",
       "      <td>69.3</td>\n",
       "      <td>12.0</td>\n",
       "      <td>132.4</td>\n",
       "      <td>bas</td>\n",
       "    </tr>\n",
       "    <tr>\n",
       "      <th>3</th>\n",
       "      <td>151.5</td>\n",
       "      <td>41.3</td>\n",
       "      <td>58.5</td>\n",
       "      <td>16.5</td>\n",
       "      <td>251.3</td>\n",
       "      <td>moyen</td>\n",
       "    </tr>\n",
       "    <tr>\n",
       "      <th>4</th>\n",
       "      <td>180.8</td>\n",
       "      <td>10.8</td>\n",
       "      <td>58.4</td>\n",
       "      <td>17.9</td>\n",
       "      <td>250.0</td>\n",
       "      <td>moyen</td>\n",
       "    </tr>\n",
       "    <tr>\n",
       "      <th>...</th>\n",
       "      <td>...</td>\n",
       "      <td>...</td>\n",
       "      <td>...</td>\n",
       "      <td>...</td>\n",
       "      <td>...</td>\n",
       "      <td>...</td>\n",
       "    </tr>\n",
       "    <tr>\n",
       "      <th>195</th>\n",
       "      <td>38.2</td>\n",
       "      <td>3.7</td>\n",
       "      <td>13.8</td>\n",
       "      <td>7.6</td>\n",
       "      <td>55.7</td>\n",
       "      <td>bas</td>\n",
       "    </tr>\n",
       "    <tr>\n",
       "      <th>196</th>\n",
       "      <td>94.2</td>\n",
       "      <td>4.9</td>\n",
       "      <td>8.1</td>\n",
       "      <td>14.0</td>\n",
       "      <td>107.2</td>\n",
       "      <td>bas</td>\n",
       "    </tr>\n",
       "    <tr>\n",
       "      <th>197</th>\n",
       "      <td>177.0</td>\n",
       "      <td>9.3</td>\n",
       "      <td>6.4</td>\n",
       "      <td>14.8</td>\n",
       "      <td>192.7</td>\n",
       "      <td>moyen</td>\n",
       "    </tr>\n",
       "    <tr>\n",
       "      <th>198</th>\n",
       "      <td>283.6</td>\n",
       "      <td>42.0</td>\n",
       "      <td>66.2</td>\n",
       "      <td>25.5</td>\n",
       "      <td>391.8</td>\n",
       "      <td>gros</td>\n",
       "    </tr>\n",
       "    <tr>\n",
       "      <th>199</th>\n",
       "      <td>232.1</td>\n",
       "      <td>8.6</td>\n",
       "      <td>8.7</td>\n",
       "      <td>18.4</td>\n",
       "      <td>249.4</td>\n",
       "      <td>gros</td>\n",
       "    </tr>\n",
       "  </tbody>\n",
       "</table>\n",
       "<p>200 rows × 6 columns</p>\n",
       "</div>"
      ],
      "text/plain": [
       "        TV  Radio  Newspaper  Sales   cout budget_pub\n",
       "0    230.1   37.8       69.2   22.1  337.1       gros\n",
       "1     44.5   39.3       45.1   10.4  128.9        bas\n",
       "2     17.2   45.9       69.3   12.0  132.4        bas\n",
       "3    151.5   41.3       58.5   16.5  251.3      moyen\n",
       "4    180.8   10.8       58.4   17.9  250.0      moyen\n",
       "..     ...    ...        ...    ...    ...        ...\n",
       "195   38.2    3.7       13.8    7.6   55.7        bas\n",
       "196   94.2    4.9        8.1   14.0  107.2        bas\n",
       "197  177.0    9.3        6.4   14.8  192.7      moyen\n",
       "198  283.6   42.0       66.2   25.5  391.8       gros\n",
       "199  232.1    8.6        8.7   18.4  249.4       gros\n",
       "\n",
       "[200 rows x 6 columns]"
      ]
     },
     "execution_count": 15,
     "metadata": {},
     "output_type": "execute_result"
    }
   ],
   "source": [
    "big_df.couleur.count()\n",
    "big_df.couleur.value_counts()\n",
    "#big_df\n",
    "big_df['couleur'].fillna('black')\n",
    "big_df['couleur'].fillna(method='ffill')\n",
    "big_df['couleur'].fillna(method='bfill')\n",
    "big_df\n",
    "ventes['facteur'] = ventes.Sales / ventes.TV\n",
    "ventes.facteur.describe()\n",
    "ventes.drop('facteur', axis=1, inplace = True)\n",
    "ventes.columns\n",
    "\n",
    "ventes.drop(ventes[ventes.TV > 50].index)\n",
    "ventes\n",
    "\n",
    "ventes.loc[ventes[\"TV\"] > 100, \"budget_pub\"] = \"moyen\"\n",
    "ventes.loc[ventes[\"TV\"] > 200, \"budget_pub\"] = \"gros\"\n",
    "ventes.loc[ventes[\"TV\"] <= 100, \"budget_pub\"] = \"bas\"\n",
    "\n",
    "ventes"
   ]
  }
 ],
 "metadata": {
  "kernelspec": {
   "display_name": "Python 3",
   "language": "python",
   "name": "python3"
  },
  "language_info": {
   "codemirror_mode": {
    "name": "ipython",
    "version": 3
   },
   "file_extension": ".py",
   "mimetype": "text/x-python",
   "name": "python",
   "nbconvert_exporter": "python",
   "pygments_lexer": "ipython3",
   "version": "3.10.9 (tags/v3.10.9:1dd9be6, Dec  6 2022, 20:01:21) [MSC v.1934 64 bit (AMD64)]"
  },
  "orig_nbformat": 4,
  "vscode": {
   "interpreter": {
    "hash": "4616066d6de94223d6dfbea6dbfec1a81056d26ff9efd96f39680a77ec970445"
   }
  }
 },
 "nbformat": 4,
 "nbformat_minor": 2
}
